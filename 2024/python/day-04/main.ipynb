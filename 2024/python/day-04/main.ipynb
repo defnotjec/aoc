{
 "cells": [
  {
   "cell_type": "code",
   "execution_count": 4,
   "metadata": {},
   "outputs": [
    {
     "ename": "IndexError",
     "evalue": "list index out of range",
     "output_type": "error",
     "traceback": [
      "\u001b[0;31m---------------------------------------------------------------------------\u001b[0m",
      "\u001b[0;31mIndexError\u001b[0m                                Traceback (most recent call last)",
      "Cell \u001b[0;32mIn[4], line 51\u001b[0m\n\u001b[1;32m     48\u001b[0m target \u001b[38;5;241m=\u001b[39m \u001b[38;5;124m\"\u001b[39m\u001b[38;5;124mXMAS\u001b[39m\u001b[38;5;124m\"\u001b[39m\n\u001b[1;32m     50\u001b[0m \u001b[38;5;66;03m# Find matches\u001b[39;00m\n\u001b[0;32m---> 51\u001b[0m matches \u001b[38;5;241m=\u001b[39m \u001b[43mfind_string\u001b[49m\u001b[43m(\u001b[49m\u001b[43mgrid\u001b[49m\u001b[43m,\u001b[49m\u001b[43m \u001b[49m\u001b[43mtarget\u001b[49m\u001b[43m)\u001b[49m\n\u001b[1;32m     52\u001b[0m \u001b[38;5;28mprint\u001b[39m(\u001b[38;5;124m\"\u001b[39m\u001b[38;5;124mTotal matches found:\u001b[39m\u001b[38;5;124m\"\u001b[39m, \u001b[38;5;28mlen\u001b[39m(matches))\n\u001b[1;32m     54\u001b[0m \u001b[38;5;66;03m# Print matches\u001b[39;00m\n",
      "Cell \u001b[0;32mIn[4], line 8\u001b[0m, in \u001b[0;36mfind_string\u001b[0;34m(grid, target)\u001b[0m\n\u001b[1;32m      7\u001b[0m \u001b[38;5;28;01mdef\u001b[39;00m \u001b[38;5;21mfind_string\u001b[39m(grid, target):\n\u001b[0;32m----> 8\u001b[0m     n, m \u001b[38;5;241m=\u001b[39m \u001b[38;5;28mlen\u001b[39m(grid), \u001b[38;5;28mlen\u001b[39m(\u001b[43mgrid\u001b[49m\u001b[43m[\u001b[49m\u001b[38;5;241;43m0\u001b[39;49m\u001b[43m]\u001b[49m)  \u001b[38;5;66;03m# Dimensions of the grid\u001b[39;00m\n\u001b[1;32m      9\u001b[0m     target_len \u001b[38;5;241m=\u001b[39m \u001b[38;5;28mlen\u001b[39m(target)\n\u001b[1;32m     10\u001b[0m     directions \u001b[38;5;241m=\u001b[39m [\n\u001b[1;32m     11\u001b[0m         (\u001b[38;5;241m0\u001b[39m, \u001b[38;5;241m1\u001b[39m),  \u001b[38;5;66;03m# Right\u001b[39;00m\n\u001b[1;32m     12\u001b[0m         (\u001b[38;5;241m0\u001b[39m, \u001b[38;5;241m-\u001b[39m\u001b[38;5;241m1\u001b[39m),  \u001b[38;5;66;03m# Left\u001b[39;00m\n\u001b[0;32m   (...)\u001b[0m\n\u001b[1;32m     18\u001b[0m         (\u001b[38;5;241m-\u001b[39m\u001b[38;5;241m1\u001b[39m, \u001b[38;5;241m-\u001b[39m\u001b[38;5;241m1\u001b[39m)  \u001b[38;5;66;03m# Diagonal Up-Left\u001b[39;00m\n\u001b[1;32m     19\u001b[0m     ]\n",
      "\u001b[0;31mIndexError\u001b[0m: list index out of range"
     ]
    }
   ],
   "source": [
    "def read_input(file_path):\n",
    "    \"\"\"Read the grid from a file.\"\"\"\n",
    "    with open(file_path, 'r') as f:\n",
    "        grid = [list(line.strip()) for line in f.readlines()]\n",
    "    return grid\n",
    "\n",
    "def find_string(grid, target):\n",
    "    n, m = len(grid), len(grid[0])  # Dimensions of the grid\n",
    "    target_len = len(target)\n",
    "    directions = [\n",
    "        (0, 1),  # Right\n",
    "        (0, -1),  # Left\n",
    "        (1, 0),  # Down\n",
    "        (-1, 0),  # Up\n",
    "        (1, 1),  # Diagonal Down-Right\n",
    "        (1, -1),  # Diagonal Down-Left\n",
    "        (-1, 1),  # Diagonal Up-Right\n",
    "        (-1, -1)  # Diagonal Up-Left\n",
    "    ]\n",
    "\n",
    "    def is_valid(x, y):\n",
    "        \"\"\"Check if (x, y) is within grid bounds.\"\"\"\n",
    "        return 0 <= x < n and 0 <= y < m\n",
    "\n",
    "    def search(x, y, dx, dy):\n",
    "        \"\"\"Check if target exists starting from (x, y) in direction (dx, dy).\"\"\"\n",
    "        for i in range(target_len):\n",
    "            nx, ny = x + i * dx, y + i * dy\n",
    "            if not is_valid(nx, ny) or grid[nx][ny] != target[i]:\n",
    "                return False\n",
    "        return True\n",
    "\n",
    "    matches = []\n",
    "    for i in range(n):\n",
    "        for j in range(m):\n",
    "            for dx, dy in directions:\n",
    "                if search(i, j, dx, dy):\n",
    "                    matches.append((i, j, dx, dy))\n",
    "\n",
    "    return matches\n",
    "\n",
    "\n",
    "# Read the grid from input.txt\n",
    "input_file = \"../../inputs/day-04/input_one.txt\"\n",
    "grid = read_input(input_file)\n",
    "\n",
    "# Specify the target string\n",
    "target = \"XMAS\"\n",
    "\n",
    "# Find matches\n",
    "matches = find_string(grid, target)\n",
    "print(\"Total matches found:\", len(matches))\n",
    "\n",
    "# Print matches\n",
    "print(\"Matches found:\")\n",
    "for match in matches:\n",
    "    print(f\"Start: ({match[0]}, {match[1]}), Direction: ({match[2]}, {match[3]})\")\n"
   ]
  },
  {
   "cell_type": "code",
   "execution_count": 9,
   "metadata": {},
   "outputs": [
    {
     "name": "stdout",
     "output_type": "stream",
     "text": [
      "No valid grid found to search.\n"
     ]
    }
   ],
   "source": [
    "def read_input(file_path):\n",
    "    \"\"\"Read the grid from a file.\"\"\"\n",
    "    with open(file_path, 'r') as f:\n",
    "        grid = [list(line.strip()) for line in f.readlines() if line.strip()]\n",
    "    return grid\n",
    "\n",
    "def find_string(grid, target):\n",
    "    n, m = len(grid), len(grid[0])  # Dimensions of the grid\n",
    "    target_len = len(target)\n",
    "    directions = [\n",
    "        (0, 1),  # Right\n",
    "        (0, -1),  # Left\n",
    "        (1, 0),  # Down\n",
    "        (-1, 0),  # Up\n",
    "        (1, 1),  # Diagonal Down-Right\n",
    "        (1, -1),  # Diagonal Down-Left\n",
    "        (-1, 1),  # Diagonal Up-Right\n",
    "        (-1, -1)  # Diagonal Up-Left\n",
    "    ]\n",
    "\n",
    "    def is_valid(x, y):\n",
    "        \"\"\"Check if (x, y) is within grid bounds.\"\"\"\n",
    "        return 0 <= x < n and 0 <= y < m\n",
    "\n",
    "    def search(x, y, dx, dy):\n",
    "        \"\"\"Check if target exists starting from (x, y) in direction (dx, dy).\"\"\"\n",
    "        for i in range(target_len):\n",
    "            nx, ny = x + i * dx, y + i * dy\n",
    "            if not is_valid(nx, ny) or grid[nx][ny] != target[i]:\n",
    "                return False\n",
    "        return True\n",
    "\n",
    "    matches = []\n",
    "    for i in range(n):\n",
    "        for j in range(m):\n",
    "            for dx, dy in directions:\n",
    "                if search(i, j, dx, dy):\n",
    "                    matches.append((i, j, dx, dy))\n",
    "\n",
    "    return matches\n",
    "\n",
    "# Read the grid from input.txt\n",
    "input_file = \"../../inputs/day-04/input_one.txt\"\n",
    "try:\n",
    "    grid = read_input(input_file)\n",
    "except ValueError as e:\n",
    "    print(f\"Error: {e}\")\n",
    "    grid = []\n",
    "\n",
    "# Specify the target string\n",
    "target = \"XMAS\"\n",
    "\n",
    "# Find matches if the grid is valid\n",
    "if grid:\n",
    "    matches = find_string(grid, target)\n",
    "    print(\"Total matches found:\", len(matches))\n",
    "    for match in matches:\n",
    "        print(f\"Start: ({match[0]}, {match[1]}), Direction: ({match[2]}, {match[3]})\")\n",
    "else:\n",
    "    print(\"No valid grid found to search.\")\n"
   ]
  },
  {
   "cell_type": "code",
   "execution_count": 40,
   "metadata": {},
   "outputs": [
    {
     "name": "stdout",
     "output_type": "stream",
     "text": [
      "['MMMSXXMASM', 'MSAMXMSMSA', 'AMXSXMAAMM', 'MSAMASMSMX', 'XMASAMXAMM', 'XXAMMXXAMA', 'SMSMSASXSS', 'SAXAMASAAA', 'MAMMMXMMMM', 'MXMXAXMASX']\n"
     ]
    }
   ],
   "source": [
    "with open(\"../../inputs/day-04/sample_input_one.txt\", \"r\") as file:\n",
    "    data = file.read().splitlines()\n",
    "    file.close()\n",
    "print(data)"
   ]
  },
  {
   "cell_type": "code",
   "execution_count": null,
   "metadata": {},
   "outputs": [
    {
     "name": "stdout",
     "output_type": "stream",
     "text": [
      "['MMMSXXMASM', 'MSAMXMSMSA', 'AMXSXMAAMM', 'MSAMASMSMX', 'XMASAMXAMM', 'XXAMMXXAMA', 'SMSMSASXSS', 'SAXAMASAAA', 'MAMMMXMMMM', 'MXMXAXMASX']\n"
     ]
    }
   ],
   "source": [
    "with open(\"../../inputs/day-04/input_one.txt\", \"r\") as file:\n",
    "    final_grid = file.read().splitlines()\n",
    "    file.close()\n",
    "print(final_grid)"
   ]
  },
  {
   "cell_type": "code",
   "execution_count": 33,
   "metadata": {},
   "outputs": [
    {
     "name": "stdout",
     "output_type": "stream",
     "text": [
      "['MMMSXXMASM', 'MSAMXMSMSA', 'AMXSXMAAMM', 'MSAMASMSMX', 'XMASAMXAMM', 'XXAMMXXAMA', 'SMSMSASXSS', 'SAXAMASAAA', 'MAMMMXMMMM', 'MXMXAXMASX']\n"
     ]
    }
   ],
   "source": [
    "# rename data to grid and start using better variable names\n",
    "grid = data\n",
    "print(grid)"
   ]
  },
  {
   "cell_type": "code",
   "execution_count": 34,
   "metadata": {},
   "outputs": [
    {
     "name": "stdout",
     "output_type": "stream",
     "text": [
      "Number of rows 10\n",
      "Number of columns 10\n"
     ]
    }
   ],
   "source": [
    "print(\"Number of rows\", len(grid[0]))\n",
    "print(\"Number of columns\", len(grid))"
   ]
  },
  {
   "cell_type": "code",
   "execution_count": 35,
   "metadata": {},
   "outputs": [
    {
     "name": "stdout",
     "output_type": "stream",
     "text": [
      "19\n"
     ]
    }
   ],
   "source": [
    "# crawl the grid, count x's\n",
    "count = 0\n",
    "for r in range(len(grid)):\n",
    "    for c in range(len(grid[0])):\n",
    "        if grid[r][c] == \"X\":\n",
    "            count += 1\n",
    "print(count)"
   ]
  },
  {
   "cell_type": "code",
   "execution_count": 38,
   "metadata": {},
   "outputs": [
    {
     "name": "stdout",
     "output_type": "stream",
     "text": [
      "Number of XMAS found:  18\n"
     ]
    }
   ],
   "source": [
    "count = 0\n",
    "\n",
    "for r in range(len(grid)):\n",
    "    for c in range(len(grid[0])):\n",
    "        if grid[r][c] != \"X\":\n",
    "            continue\n",
    "        # iterate over all directions\n",
    "        # for rdx, cdy in [(0, -1), (1, -1), (1, 0), (1, 1), (0, 1), (-1, 1), (-1, 0), (-1, -1)]:\n",
    "        \n",
    "        for dr in [-1, 0, 1]:\n",
    "            for dc in [-1, 0, 1]:\n",
    "                if dr == 0 and dc == 0:\n",
    "                    continue\n",
    "                # check if we are in bounds\n",
    "                # if r + dr < 0 or r + dr >= len(grid) or c + dc < 0 or c + dc >= len(grid[0]):\n",
    "                if not (0 <= r + 3 * dr < len(grid) and 0 <= c + 3 * dc < len(grid[0])):\n",
    "                    continue\n",
    "                # check if the next cell is an M\n",
    "                # need to join the nested ifs with and\n",
    "                if grid[r + dr][c + dc] == \"M\" and grid[r + 2 * dr][c + 2 * dc] == \"A\" and grid[r + 3 * dr][c + 3 * dc] == \"S\":\n",
    "                    count += 1\n",
    "print(\"Number of XMAS found: \", count)"
   ]
  },
  {
   "cell_type": "code",
   "execution_count": null,
   "metadata": {},
   "outputs": [],
   "source": [
    "for r in range(len(grid)):\n",
    "    for c in range(len(grid[0])):\n",
    "        if grid[r][c] != \"X\":\n",
    "            continue"
   ]
  }
 ],
 "metadata": {
  "kernelspec": {
   "display_name": ".venv",
   "language": "python",
   "name": "python3"
  },
  "language_info": {
   "codemirror_mode": {
    "name": "ipython",
    "version": 3
   },
   "file_extension": ".py",
   "mimetype": "text/x-python",
   "name": "python",
   "nbconvert_exporter": "python",
   "pygments_lexer": "ipython3",
   "version": "3.13.0"
  }
 },
 "nbformat": 4,
 "nbformat_minor": 2
}
