{
 "cells": [
  {
   "cell_type": "code",
   "execution_count": 2,
   "metadata": {},
   "outputs": [],
   "source": [
    "import re"
   ]
  },
  {
   "cell_type": "code",
   "execution_count": 3,
   "metadata": {},
   "outputs": [
    {
     "name": "stdout",
     "output_type": "stream",
     "text": [
      "xmul(2,4)%&mul[3,7]!@^do_not_mul(5,5)+mul(32,64]then(mul(11,8)mul(8,5))\n"
     ]
    }
   ],
   "source": [
    "with open('../../inputs/day-03/sample_input_one.txt', 'r') as file:\n",
    "    data = file.read()\n",
    "    file.close()\n",
    "print(data)"
   ]
  },
  {
   "cell_type": "code",
   "execution_count": 4,
   "metadata": {},
   "outputs": [],
   "source": [
    "## initialize total counter\n",
    "total = 0"
   ]
  },
  {
   "cell_type": "code",
   "execution_count": 5,
   "metadata": {},
   "outputs": [
    {
     "name": "stdout",
     "output_type": "stream",
     "text": [
      "mul(2,4)\n",
      "mul(5,5)\n",
      "mul(11,8)\n",
      "mul(8,5)\n"
     ]
    }
   ],
   "source": [
    "for match in re.findall(r\"do\\(\\)|don't\\(\\)|mul\\(\\d{1,3},\\d{1,3}\\)\", data):\n",
    "    print(match)\n",
    "    continue\n",
    "    x, y = map(int, match[4:-1].split(','))\n",
    "    total += x * y"
   ]
  },
  {
   "cell_type": "code",
   "execution_count": 6,
   "metadata": {},
   "outputs": [],
   "source": [
    "for match in re.findall(r\"mul\\(\\d{1,3},\\d{1,3}\\)\", data):\n",
    "    x, y = map(int, match[4:-1].split(\",\"))\n",
    "    total += x * y"
   ]
  },
  {
   "cell_type": "code",
   "execution_count": 7,
   "metadata": {},
   "outputs": [
    {
     "name": "stdout",
     "output_type": "stream",
     "text": [
      "161\n"
     ]
    }
   ],
   "source": [
    "print(total)"
   ]
  },
  {
   "cell_type": "code",
   "execution_count": 7,
   "metadata": {},
   "outputs": [
    {
     "name": "stdout",
     "output_type": "stream",
     "text": [
      "Answer is Correct!\n"
     ]
    }
   ],
   "source": [
    "with open('../data/sample_output.txt', 'r') as file:\n",
    "    answer = file.read()\n",
    "    if int(total) == int(answer):\n",
    "        print(\"Answer is Correct!\")\n",
    "    else:\n",
    "        print(\"You dun goofed\")"
   ]
  },
  {
   "cell_type": "code",
   "execution_count": 8,
   "metadata": {},
   "outputs": [
    {
     "name": "stdout",
     "output_type": "stream",
     "text": [
      "xmul(2,4)&mul[3,7]!^don't()_mul(5,5)+mul(32,64](mul(11,8)undo()?mul(8,5))\n"
     ]
    }
   ],
   "source": [
    "with open('../data/sample_two_input.txt', 'r') as file:\n",
    "    data = file.read()\n",
    "    file.close()\n",
    "print(data)"
   ]
  },
  {
   "cell_type": "code",
   "execution_count": 9,
   "metadata": {},
   "outputs": [],
   "source": [
    "do = True\n",
    "total = 0"
   ]
  },
  {
   "cell_type": "code",
   "execution_count": 10,
   "metadata": {},
   "outputs": [
    {
     "name": "stdout",
     "output_type": "stream",
     "text": [
      "48\n"
     ]
    }
   ],
   "source": [
    "for match in re.findall(r\"do\\(\\)|don't\\(\\)|mul\\(\\d{1,3},\\d{1,3}\\)\", data):\n",
    "    if match == \"do()\":\n",
    "        do = True\n",
    "    elif match == \"don't()\":\n",
    "        do = False\n",
    "    elif do == True:\n",
    "        x, y = map(int, match[4:-1].split(\",\"))\n",
    "        total += x * y\n",
    "print(total)"
   ]
  },
  {
   "cell_type": "code",
   "execution_count": 11,
   "metadata": {},
   "outputs": [
    {
     "name": "stdout",
     "output_type": "stream",
     "text": [
      "Answer is Correct!\n"
     ]
    }
   ],
   "source": [
    "with open('../data/sample_two_output.txt', 'r') as file:\n",
    "    answer = file.read()\n",
    "    if int(total) == int(answer):\n",
    "        print(\"Answer is Correct!\")\n",
    "    else:\n",
    "        print(\"You dun goofed\")\n",
    "    file.close()"
   ]
  }
 ],
 "metadata": {
  "kernelspec": {
   "display_name": ".venv",
   "language": "python",
   "name": "python3"
  },
  "language_info": {
   "codemirror_mode": {
    "name": "ipython",
    "version": 3
   },
   "file_extension": ".py",
   "mimetype": "text/x-python",
   "name": "python",
   "nbconvert_exporter": "python",
   "pygments_lexer": "ipython3",
   "version": "3.13.0"
  }
 },
 "nbformat": 4,
 "nbformat_minor": 2
}
